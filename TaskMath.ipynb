{
 "cells": [
  {
   "cell_type": "markdown",
   "metadata": {},
   "source": [
    "Андрусенко С.Л.\n",
    "\n",
    "Практические задания к уроку 5\n",
    "\n",
    "Тема “Элементы теории вероятностей”"
   ]
  },
  {
   "cell_type": "code",
   "execution_count": 12,
   "metadata": {},
   "outputs": [],
   "source": [
    "%matplotlib inline\n",
    "import numpy as np\n",
    "import matplotlib.pyplot as plt\n",
    "import matplotlib.mlab as mlab\n",
    "import itertools\n",
    "import math\n",
    "import sys"
   ]
  },
  {
   "cell_type": "markdown",
   "metadata": {},
   "source": [
    "Задание №1. Напишите код, моделирующий выпадение поля в рулетке (с учетом поля зеро)."
   ]
  },
  {
   "cell_type": "markdown",
   "metadata": {},
   "source": [
    "В игре Рулетка 36 полей с цифрами (красные/черные поля) и одно нулевое поле (зеленое)"
   ]
  },
  {
   "cell_type": "code",
   "execution_count": 8,
   "metadata": {},
   "outputs": [
    {
     "name": "stdout",
     "output_type": "stream",
     "text": [
      "Нажмите Enter\n",
      "Вы попали красное поле: 19\n",
      "Нажмите Enter\n",
      "Вы попали в зеленую область: 0\n",
      "Нажмите Enter\n",
      "Вы попали черное поле: 15\n"
     ]
    }
   ],
   "source": [
    "#играем 3 раза\n",
    "for i in range(0,3):\n",
    "    a = input(\"Нажмите Enter\")\n",
    "    #разыгрываем число\n",
    "    x = np.random.randint(0,37) #37 не входит в модуль randint\n",
    "    if x == 0:\n",
    "        print('Вы попали в зеленую область:',x)\n",
    "    elif (x==2 or x==4 or x==6 or x==8 or x==10 or x==11 or x==13 or x==15 or x==17 or \n",
    "          x==20 or x==22 or x==24 or x==26 or x==28 or x==29 or x==31 or x==33 or x==35):\n",
    "        print('Вы попали черное поле:',x)\n",
    "    else:\n",
    "        print('Вы попали красное поле:',x)"
   ]
  },
  {
   "cell_type": "markdown",
   "metadata": {},
   "source": [
    "Задание №2. \n",
    "\n",
    "1) Напишите код, проверяющий любую из теорем сложения или умножения вероятности на примере рулетки или подбрасывания монетки.\n",
    "\n",
    "2) Сгенерируйте десять выборок случайных чисел х0, …, х9 и постройте гистограмму распределения случайной суммы  х0+ …+ х9. "
   ]
  },
  {
   "cell_type": "code",
   "execution_count": 35,
   "metadata": {},
   "outputs": [
    {
     "name": "stdout",
     "output_type": "stream",
     "text": [
      "Теорема доказана: 0.49958 0.50042 1.0\n"
     ]
    }
   ],
   "source": [
    "#проверим теорему сложения противоположных событий. Пусть А - выпадение орла, \n",
    "#а противоположное ему событие В - выпадение решки\n",
    "k, m = 0, 0\n",
    "n = 50000\n",
    "for i in range(0,n):\n",
    "    #подбрасываем монетку\n",
    "    x = np.random.uniform(0, 10)\n",
    "    if (x < 5):\n",
    "        k = k + 1\n",
    "    else:\n",
    "        m = m + 1\n",
    "        \n",
    "if (k/n + m/n) == 1:\n",
    "    print('Теорема доказана:', k/n, m/n, k/n + m/n)\n",
    "else:\n",
    "    print('Ошибка')    "
   ]
  },
  {
   "cell_type": "code",
   "execution_count": 43,
   "metadata": {},
   "outputs": [
    {
     "data": {
      "text/plain": [
       "Text(0.5, 1.0, 'Histogram Task №2')"
      ]
     },
     "execution_count": 43,
     "metadata": {},
     "output_type": "execute_result"
    },
    {
     "data": {
      "image/png": "[encoded data removed]",
      "text/plain": [
       "<Figure size 432x288 with 1 Axes>"
      ]
     },
     "metadata": {
      "needs_background": "light"
     },
     "output_type": "display_data"
    }
   ],
   "source": [
    "#Построим гистограмму\n",
    "list = [] #создадим лист со случайными числами и заполним его\n",
    "i = 0\n",
    "n = 10\n",
    "for i in range(0,n):\n",
    "  x = np.random.rand(10)\n",
    "  list.append(sum(x)) #случайная сумма случайных чисел\n",
    "  i = i + 1\n",
    "num_bins = 10\n",
    "n, bins, patches = plt.hist(list, num_bins)\n",
    "plt.xlabel('sum of random numbers')\n",
    "plt.ylabel('Probability')\n",
    "plt.title('Histogram Task №2')"
   ]
  },
  {
   "cell_type": "markdown",
   "metadata": {},
   "source": [
    "Задание №3.\n",
    "\n",
    "1) Дополните код Монте-Карло последовательности независимых испытаний расчетом соответствующих вероятностей (через биномиальное распределение) и сравните результаты.\n",
    "\n",
    "2) Повторите расчеты биномиальных коэффициентов и вероятностей k успехов в последовательности из n независимых испытаний, взяв другие значения n и k."
   ]
  },
  {
   "cell_type": "code",
   "execution_count": 29,
   "metadata": {},
   "outputs": [
    {
     "name": "stdout",
     "output_type": "stream",
     "text": [
      "3758 10000 0.3758\n"
     ]
    }
   ],
   "source": [
    "#код из лекций\n",
    "#Вероятность выпадения 2-ух успехов (2 орла) в 4 испытаниях (методом МК)\n",
    "k, n = 0, 10000\n",
    "a = np.random.randint(0, 2, n)\n",
    "b = np.random.randint(0, 2, n)\n",
    "c = np.random.randint(0, 2, n)\n",
    "d = np.random.randint(0, 2, n)\n",
    "x = a + b + c + d\n",
    "for i in range(0,n):\n",
    "    if x[i] == 2:\n",
    "        k = k + 1\n",
    "print(k, n, k/n)"
   ]
  },
  {
   "cell_type": "code",
   "execution_count": 31,
   "metadata": {},
   "outputs": [
    {
     "name": "stdout",
     "output_type": "stream",
     "text": [
      "0.375\n"
     ]
    }
   ],
   "source": [
    "#Вероятность выпадения 2-ух успехов (2 орла) в 4 испытаниях (по формуле Бернулли -> С из n = 4 по k = 2)\n",
    "n = 4\n",
    "k = 2\n",
    "C = np.math.factorial(n)/(np.math.factorial(k)*np.math.factorial(n - k))\n",
    "p = 1/2 #1/4 + 1/4 = 1/2\n",
    "q = 1 - p\n",
    "P = C * np.power(p, k) * np.power(q, n - k)\n",
    "print(P)"
   ]
  },
  {
   "cell_type": "markdown",
   "metadata": {},
   "source": []
  },
  {
   "cell_type": "code",
   "execution_count": null,
   "metadata": {},
   "outputs": [],
   "source": []
  },
  {
   "cell_type": "code",
   "execution_count": null,
   "metadata": {},
   "outputs": [],
   "source": []
  }
 ],
 "metadata": {
  "kernelspec": {
   "display_name": "Python 3",
   "language": "python",
   "name": "python3"
  },
  "language_info": {
   "codemirror_mode": {
    "name": "ipython",
    "version": 3
   },
   "file_extension": ".py",
   "mimetype": "text/x-python",
   "name": "python",
   "nbconvert_exporter": "python",
   "pygments_lexer": "ipython3",
   "version": "3.7.6"
  }
 },
 "nbformat": 4,
 "nbformat_minor": 4
}
